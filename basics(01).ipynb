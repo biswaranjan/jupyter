{
 "cells": [
  {
   "cell_type": "code",
   "execution_count": 5,
   "metadata": {},
   "outputs": [
    {
     "name": "stdout",
     "output_type": "stream",
     "text": [
      "['False', 'None', 'True', 'and', 'as', 'assert', 'async', 'await', 'break', 'class', 'continue', 'def', 'del', 'elif', 'else', 'except', 'finally', 'for', 'from', 'global', 'if', 'import', 'in', 'is', 'lambda', 'nonlocal', 'not', 'or', 'pass', 'raise', 'return', 'try', 'while', 'with', 'yield']\n"
     ]
    }
   ],
   "source": [
    "import keyword\n",
    "print(keyword.kwlist)"
   ]
  },
  {
   "cell_type": "code",
   "execution_count": 6,
   "metadata": {},
   "outputs": [
    {
     "name": "stdout",
     "output_type": "stream",
     "text": [
      "['False', 'None', 'True', 'and', 'as', 'assert', 'async', 'await', 'break', 'class', 'continue', 'def', 'del', 'elif', 'else', 'except', 'finally', 'for', 'from', 'global', 'if', 'import', 'in', 'is', 'lambda', 'nonlocal', 'not', 'or', 'pass', 'raise', 'return', 'try', 'while', 'with', 'yield']\n"
     ]
    }
   ],
   "source": [
    "print(keyword.kwlist)"
   ]
  },
  {
   "cell_type": "code",
   "execution_count": 10,
   "metadata": {},
   "outputs": [
    {
     "name": "stdout",
     "output_type": "stream",
     "text": [
      "True\n"
     ]
    }
   ],
   "source": [
    "print(keyword.iskeyword(\"try\"))"
   ]
  },
  {
   "cell_type": "markdown",
   "metadata": {},
   "source": [
    "True and False are truth values in Python. They are the results of comparison operations or logical (Boolean) operations in Python. For example:"
   ]
  },
  {
   "cell_type": "code",
   "execution_count": null,
   "metadata": {},
   "outputs": [],
   "source": [
    "1 == 1"
   ]
  },
  {
   "cell_type": "code",
   "execution_count": null,
   "metadata": {},
   "outputs": [],
   "source": [
    "5 > 3"
   ]
  },
  {
   "cell_type": "code",
   "execution_count": null,
   "metadata": {},
   "outputs": [],
   "source": [
    "False or True"
   ]
  },
  {
   "cell_type": "code",
   "execution_count": null,
   "metadata": {},
   "outputs": [],
   "source": [
    "True and False"
   ]
  },
  {
   "cell_type": "markdown",
   "metadata": {},
   "source": [
    "Here we can see that the first three statements are true so the interpreter returns True and returns False for the remaining three statements. True and False in python is same as 1 and 0. This can be justified with the following example:"
   ]
  },
  {
   "cell_type": "code",
   "execution_count": null,
   "metadata": {},
   "outputs": [],
   "source": [
    "True == 1"
   ]
  },
  {
   "cell_type": "code",
   "execution_count": null,
   "metadata": {},
   "outputs": [],
   "source": [
    "False == 0"
   ]
  },
  {
   "cell_type": "code",
   "execution_count": null,
   "metadata": {},
   "outputs": [],
   "source": [
    "True + True"
   ]
  },
  {
   "cell_type": "markdown",
   "metadata": {},
   "source": [
    "None is a special constant in Python that represents the absence of a value or a null value.\n",
    "\n",
    "It is an object of its own datatype, the NoneType. We cannot create multiple None objects but can assign it to variables. These variables will be equal to one another.\n",
    "\n",
    "We must take special care that None does not imply False, 0 or any empty list, dictionary, string etc. For example:"
   ]
  },
  {
   "cell_type": "code",
   "execution_count": null,
   "metadata": {},
   "outputs": [],
   "source": [
    "None == 0"
   ]
  },
  {
   "cell_type": "code",
   "execution_count": null,
   "metadata": {},
   "outputs": [],
   "source": [
    "None == []"
   ]
  },
  {
   "cell_type": "code",
   "execution_count": null,
   "metadata": {},
   "outputs": [],
   "source": [
    "None == False"
   ]
  },
  {
   "cell_type": "code",
   "execution_count": null,
   "metadata": {},
   "outputs": [],
   "source": [
    "x = None\n",
    "y = None\n",
    "x == y"
   ]
  },
  {
   "cell_type": "code",
   "execution_count": null,
   "metadata": {},
   "outputs": [],
   "source": [
    "True"
   ]
  },
  {
   "cell_type": "code",
   "execution_count": null,
   "metadata": {},
   "outputs": [],
   "source": [
    "False"
   ]
  },
  {
   "cell_type": "markdown",
   "metadata": {},
   "source": [
    "Notice the special example below. Observe the output of the expression. (no output)"
   ]
  },
  {
   "cell_type": "code",
   "execution_count": null,
   "metadata": {},
   "outputs": [],
   "source": [
    "None"
   ]
  },
  {
   "cell_type": "markdown",
   "metadata": {},
   "source": [
    "Void Functions: \n",
    "\n",
    "Void functions that do not return anything will return a None object automatically. None is also returned by functions in which the program flow does not encounter a return statement. For example:"
   ]
  },
  {
   "cell_type": "code",
   "execution_count": null,
   "metadata": {},
   "outputs": [],
   "source": [
    "def a_void_function():\n",
    "    a = 10\n",
    "    b = 15\n",
    "    c = a + b\n",
    "\n",
    "x = a_void_function()\n",
    "print(x)"
   ]
  },
  {
   "cell_type": "markdown",
   "metadata": {},
   "source": [
    "Some functions"
   ]
  },
  {
   "cell_type": "code",
   "execution_count": null,
   "metadata": {},
   "outputs": [],
   "source": [
    "def a_function():\n",
    "    a = 10\n",
    "    b = 14\n",
    "    return a + b\n",
    "\n",
    "print(a_function())"
   ]
  },
  {
   "cell_type": "markdown",
   "metadata": {},
   "source": [
    "Improper function\n",
    "This program has a function that does not return a value, although it does some operations inside. So when we print x, we get None which is returned automatically (implicitly). Similarly, here is another example:"
   ]
  },
  {
   "cell_type": "code",
   "execution_count": null,
   "metadata": {},
   "outputs": [],
   "source": [
    "def improper_return_function(a):\n",
    "    if (a % 2) == 0:\n",
    "        return True\n",
    "x = improper_return_function(3)\n",
    "print(x)"
   ]
  },
  {
   "cell_type": "code",
   "execution_count": null,
   "metadata": {},
   "outputs": [],
   "source": [
    "x = improper_return_function(4)\n",
    "print(x)"
   ]
  },
  {
   "cell_type": "markdown",
   "metadata": {},
   "source": [
    "Logical operations: and, or , not\n",
    "\n",
    "and, or, not are the logical operators in Python. and will result into True only if both the operands are True. "
   ]
  },
  {
   "cell_type": "code",
   "execution_count": null,
   "metadata": {},
   "outputs": [],
   "source": [
    "True and False"
   ]
  },
  {
   "cell_type": "code",
   "execution_count": null,
   "metadata": {},
   "outputs": [],
   "source": [
    "True or False"
   ]
  },
  {
   "cell_type": "code",
   "execution_count": null,
   "metadata": {},
   "outputs": [],
   "source": [
    "not False"
   ]
  },
  {
   "cell_type": "markdown",
   "metadata": {},
   "source": [
    "Keyword 'as'\n",
    "\n",
    "as is used to create an alias while importing a module. It means giving a different name (user-defined) to a module while importing it.\n",
    "\n",
    "As for example, Python has a standard module called math. Suppose we want to calculate what cosine pi is using an alias. We can do it as follows using as:"
   ]
  },
  {
   "cell_type": "code",
   "execution_count": null,
   "metadata": {},
   "outputs": [],
   "source": [
    "import math as myMath\n",
    "myMath.cos(myMath.pi)"
   ]
  },
  {
   "cell_type": "markdown",
   "metadata": {},
   "source": [
    "assert for debugging\n",
    "syntax: assert condition, message\n",
    "\n",
    "assert is used for debugging purposes.\n",
    "\n",
    "While programming, sometimes we wish to know the internal state or check if our assumptions are true. assert helps us do this and find bugs more conveniently. assert is followed by a condition.\n",
    "\n",
    "If the condition is true, nothing happens. But if the condition is false, AssertionError is raised. For example:"
   ]
  },
  {
   "cell_type": "code",
   "execution_count": null,
   "metadata": {},
   "outputs": [],
   "source": [
    "a = 4\n",
    "assert a < 5\n",
    "assert a > 5"
   ]
  },
  {
   "cell_type": "code",
   "execution_count": null,
   "metadata": {},
   "outputs": [],
   "source": [
    "a = 4\n",
    "assert a > 5, \"value too small\""
   ]
  },
  {
   "cell_type": "markdown",
   "metadata": {},
   "source": [
    "is equivalent to,\n",
    "\n",
    "if not condition:\n",
    "    raise AssertionError(message)"
   ]
  },
  {
   "cell_type": "markdown",
   "metadata": {},
   "source": [
    "break, continue\n",
    "\n",
    "break and continue are used inside for and while loops to alter their normal behavior.\n",
    "\n",
    "break will end the smallest loop it is in and control flows to the statement immediately below the loop. continue causes to end the current iteration of the loop, but not the whole loop."
   ]
  },
  {
   "cell_type": "code",
   "execution_count": null,
   "metadata": {},
   "outputs": [],
   "source": [
    "for i in range(1,11):\n",
    "    if i == 5:\n",
    "        break\n",
    "    print(i)"
   ]
  },
  {
   "cell_type": "code",
   "execution_count": null,
   "metadata": {},
   "outputs": [],
   "source": [
    "for i in range(1,11):\n",
    "    print(i)\n",
    "    if i == 5:\n",
    "        break"
   ]
  },
  {
   "cell_type": "code",
   "execution_count": null,
   "metadata": {},
   "outputs": [],
   "source": [
    "for i in range(1,11):\n",
    "    if i == 5:\n",
    "        continue\n",
    "    print(i)"
   ]
  },
  {
   "cell_type": "code",
   "execution_count": null,
   "metadata": {},
   "outputs": [],
   "source": [
    "for i in range(1,11):\n",
    "    print(i)\n",
    "    if i == 5:\n",
    "        continue"
   ]
  },
  {
   "cell_type": "code",
   "execution_count": 3,
   "metadata": {},
   "outputs": [],
   "source": [
    "'''\n",
    "class\n",
    "\n",
    "class is used to define a new user-defined class in Python.\n",
    "\n",
    "Class is a collection of related attributes and methods that try to represent a real world situation. \n",
    "This idea of putting data and functions together in a class is central to the concept \n",
    "of object-oriented programming (OOP).\n",
    "\n",
    "Classes can be defined anywhere in a program. \n",
    "But it is a good practice to define a single class in a module. Following is a sample usage:\n",
    "\n",
    "'''\n",
    "class ExampleClass:\n",
    "    def function1(parameters):\n",
    "        pass\n",
    "    \n",
    "    def function2(parameters):\n",
    "        pass"
   ]
  },
  {
   "cell_type": "markdown",
   "metadata": {},
   "source": [
    "def\n",
    "\n",
    "def is used to define a user-defined function.\n",
    "\n",
    "Function is a block of related statements, which together does some specific task. It helps us organize code into manageable chunks and also to do some repetitive task.\n",
    "\n",
    "The usage of def is shown below:\n",
    "\n",
    "def function_name(parameters):\n",
    "    …"
   ]
  },
  {
   "cell_type": "code",
   "execution_count": 4,
   "metadata": {},
   "outputs": [
    {
     "ename": "NameError",
     "evalue": "name 'a' is not defined",
     "output_type": "error",
     "traceback": [
      "\u001b[0;31m---------------------------------------------------------------------------\u001b[0m",
      "\u001b[0;31mNameError\u001b[0m                                 Traceback (most recent call last)",
      "\u001b[0;32m<ipython-input-4-0f1d8ce10f43>\u001b[0m in \u001b[0;36m<module>\u001b[0;34m\u001b[0m\n\u001b[1;32m      6\u001b[0m \u001b[0ma\u001b[0m \u001b[0;34m=\u001b[0m \u001b[0mb\u001b[0m \u001b[0;34m=\u001b[0m \u001b[0;36m5\u001b[0m\u001b[0;34m\u001b[0m\u001b[0;34m\u001b[0m\u001b[0m\n\u001b[1;32m      7\u001b[0m \u001b[0;32mdel\u001b[0m \u001b[0ma\u001b[0m\u001b[0;34m\u001b[0m\u001b[0;34m\u001b[0m\u001b[0m\n\u001b[0;32m----> 8\u001b[0;31m \u001b[0ma\u001b[0m\u001b[0;34m\u001b[0m\u001b[0;34m\u001b[0m\u001b[0m\n\u001b[0m",
      "\u001b[0;31mNameError\u001b[0m: name 'a' is not defined"
     ]
    }
   ],
   "source": [
    "'''\n",
    "del\n",
    "del is used to delete the reference to an object. Everything is object in Python. \n",
    "We can delete a variable reference using del\n",
    "'''\n",
    "\n",
    "a = b = 5\n",
    "del a\n",
    "a"
   ]
  },
  {
   "cell_type": "code",
   "execution_count": 6,
   "metadata": {},
   "outputs": [
    {
     "data": {
      "text/plain": [
       "['x', 'z']"
      ]
     },
     "execution_count": 6,
     "metadata": {},
     "output_type": "execute_result"
    }
   ],
   "source": [
    "'''\n",
    "Here we can see that the reference of the variable a was deleted. \n",
    "So, it is no longer defined. But b still exists.\n",
    "\n",
    "del is also used to delete items from a list or a dictionary:\n",
    "'''\n",
    "\n",
    "a = ['x','y','z']\n",
    "del a[1]\n",
    "a"
   ]
  },
  {
   "cell_type": "code",
   "execution_count": 7,
   "metadata": {},
   "outputs": [
    {
     "name": "stdout",
     "output_type": "stream",
     "text": [
      "Two\n",
      "Something else\n",
      "One\n"
     ]
    }
   ],
   "source": [
    "'''\n",
    "if, else, elif\n",
    "\n",
    "if, else, elif are used for conditional branching or decision making.\n",
    "\n",
    "When we want to test some condition and execute a block only if the condition is true, \n",
    "then we use if and elif. elif is short for else if. else is the block which is executed \n",
    "if the condition is false. This will be clear with the following example:\n",
    "'''\n",
    "\n",
    "def if_example(a):\n",
    "    if a == 1:\n",
    "        print('One')\n",
    "    elif a == 2:\n",
    "        print('Two')\n",
    "    else:\n",
    "        print('Something else')\n",
    "        \n",
    "if_example(2)\n",
    "if_example(4)\n",
    "if_example(1)\n",
    "\n",
    "'''\n",
    "Here, the function checks the input number and prints the result if it is 1 or 2. \n",
    "Any input other than this will cause the else part of the code to execute.\n",
    "'''"
   ]
  },
  {
   "cell_type": "code",
   "execution_count": 8,
   "metadata": {},
   "outputs": [
    {
     "name": "stdout",
     "output_type": "stream",
     "text": [
      "0.1\n",
      "Exception caught\n",
      "None\n"
     ]
    }
   ],
   "source": [
    "'''\n",
    "except, raise, try\n",
    "except, raise, try are used with exceptions in Python.\n",
    "\n",
    "Exceptions are basically errors that suggests something went wrong while executing our program. \n",
    "IOError, ValueError, ZeroDivisionError, ImportError, NameError, TypeError etc. are few examples \n",
    "of exception in Python. try...except blocks are used to catch exceptions in Python.\n",
    "\n",
    "We can raise an exception explicitly with the raise keyword. Following is an example:\n",
    "'''\n",
    "\n",
    "def reciprocal(num):\n",
    "    try:\n",
    "        r = 1/num\n",
    "    except:\n",
    "        print('Exception caught')\n",
    "        return\n",
    "    return r\n",
    "print(reciprocal(10))\n",
    "print(reciprocal(0))"
   ]
  },
  {
   "cell_type": "code",
   "execution_count": 9,
   "metadata": {},
   "outputs": [
    {
     "ename": "NameError",
     "evalue": "name 'num' is not defined",
     "output_type": "error",
     "traceback": [
      "\u001b[0;31m---------------------------------------------------------------------------\u001b[0m",
      "\u001b[0;31mNameError\u001b[0m                                 Traceback (most recent call last)",
      "\u001b[0;32m<ipython-input-9-6f2683c03841>\u001b[0m in \u001b[0;36m<module>\u001b[0;34m\u001b[0m\n\u001b[1;32m      9\u001b[0m '''\n\u001b[1;32m     10\u001b[0m \u001b[0;34m\u001b[0m\u001b[0m\n\u001b[0;32m---> 11\u001b[0;31m \u001b[0;32mif\u001b[0m \u001b[0mnum\u001b[0m \u001b[0;34m==\u001b[0m \u001b[0;36m0\u001b[0m\u001b[0;34m:\u001b[0m\u001b[0;34m\u001b[0m\u001b[0;34m\u001b[0m\u001b[0m\n\u001b[0m\u001b[1;32m     12\u001b[0m     \u001b[0;32mraise\u001b[0m \u001b[0mZeroDivisionError\u001b[0m\u001b[0;34m(\u001b[0m\u001b[0;34m'cannot divide'\u001b[0m\u001b[0;34m)\u001b[0m\u001b[0;34m\u001b[0m\u001b[0;34m\u001b[0m\u001b[0m\n",
      "\u001b[0;31mNameError\u001b[0m: name 'num' is not defined"
     ]
    }
   ],
   "source": [
    "'''\n",
    "Here, the function reciprocal() returns the reciprocal of the input number.\n",
    "\n",
    "When we enter 10, we get the normal output of 0.1. But when we input 0, a ZeroDivisionError \n",
    "is raised automatically.\n",
    "\n",
    "This is caught by our try…except block and we return None. We could have also raised the ZeroDivisionError \n",
    "explicitly by checking the input and handled it elsewhere as follows:\n",
    "'''\n",
    "\n",
    "if num == 0:\n",
    "    raise ZeroDivisionError('cannot divide')"
   ]
  },
  {
   "cell_type": "code",
   "execution_count": 10,
   "metadata": {},
   "outputs": [
    {
     "ename": "NameError",
     "evalue": "name 'Finally' is not defined",
     "output_type": "error",
     "traceback": [
      "\u001b[0;31m---------------------------------------------------------------------------\u001b[0m",
      "\u001b[0;31mNameError\u001b[0m                                 Traceback (most recent call last)",
      "\u001b[0;32m<ipython-input-10-e99429391497>\u001b[0m in \u001b[0;36m<module>\u001b[0;34m\u001b[0m\n\u001b[1;32m      9\u001b[0m \u001b[0;32mtry\u001b[0m\u001b[0;34m:\u001b[0m\u001b[0;34m\u001b[0m\u001b[0;34m\u001b[0m\u001b[0m\n\u001b[0;32m---> 10\u001b[0;31m     \u001b[0mTry\u001b[0m\u001b[0;34m-\u001b[0m\u001b[0mblock\u001b[0m\u001b[0;34m\u001b[0m\u001b[0;34m\u001b[0m\u001b[0m\n\u001b[0m\u001b[1;32m     11\u001b[0m \u001b[0;34m\u001b[0m\u001b[0m\n",
      "\u001b[0;31mNameError\u001b[0m: name 'Try' is not defined",
      "\nDuring handling of the above exception, another exception occurred:\n",
      "\u001b[0;31mNameError\u001b[0m                                 Traceback (most recent call last)",
      "\u001b[0;32m<ipython-input-10-e99429391497>\u001b[0m in \u001b[0;36m<module>\u001b[0;34m\u001b[0m\n\u001b[1;32m     11\u001b[0m \u001b[0;34m\u001b[0m\u001b[0m\n\u001b[0;32m---> 12\u001b[0;31m \u001b[0;32mexcept\u001b[0m \u001b[0mexception1\u001b[0m\u001b[0;34m:\u001b[0m\u001b[0;34m\u001b[0m\u001b[0;34m\u001b[0m\u001b[0m\n\u001b[0m\u001b[1;32m     13\u001b[0m     \u001b[0mException1\u001b[0m\u001b[0;34m-\u001b[0m\u001b[0mblock\u001b[0m\u001b[0;34m\u001b[0m\u001b[0;34m\u001b[0m\u001b[0m\n",
      "\u001b[0;31mNameError\u001b[0m: name 'exception1' is not defined",
      "\nDuring handling of the above exception, another exception occurred:\n",
      "\u001b[0;31mNameError\u001b[0m                                 Traceback (most recent call last)",
      "\u001b[0;32m<ipython-input-10-e99429391497>\u001b[0m in \u001b[0;36m<module>\u001b[0;34m\u001b[0m\n\u001b[1;32m     19\u001b[0m \u001b[0;34m\u001b[0m\u001b[0m\n\u001b[1;32m     20\u001b[0m \u001b[0;32mfinally\u001b[0m\u001b[0;34m:\u001b[0m\u001b[0;34m\u001b[0m\u001b[0;34m\u001b[0m\u001b[0m\n\u001b[0;32m---> 21\u001b[0;31m     \u001b[0mFinally\u001b[0m\u001b[0;34m-\u001b[0m\u001b[0mblock\u001b[0m\u001b[0;34m\u001b[0m\u001b[0;34m\u001b[0m\u001b[0m\n\u001b[0m",
      "\u001b[0;31mNameError\u001b[0m: name 'Finally' is not defined"
     ]
    }
   ],
   "source": [
    "'''\n",
    "finally\n",
    "finally is used with try…except block to close up resources or file streams.\n",
    "\n",
    "Using finally ensures that the block of code inside it gets executed even if there \n",
    "is an unhandled exception. For example:\n",
    "'''\n",
    "\n",
    "try:\n",
    "    Try-block\n",
    "    \n",
    "except exception1:\n",
    "    Exception1-block\n",
    "    \n",
    "except exception2:\n",
    "    Exception2-block\n",
    "else:\n",
    "    Else-block\n",
    "    \n",
    "finally:\n",
    "    Finally-block\n",
    "    \n",
    "'''\n",
    "Here if there is an exception in the Try-block, it is handled in the except or else block. \n",
    "But no matter in what order the execution flows, we can rest assured that the Finally-block \n",
    "is executed even if there is an error. This is useful in cleaning up the resources.\n",
    "'''"
   ]
  },
  {
   "cell_type": "code",
   "execution_count": 11,
   "metadata": {},
   "outputs": [
    {
     "name": "stdout",
     "output_type": "stream",
     "text": [
      "Hello John\n",
      "Hello Monica\n",
      "Hello Steven\n",
      "Hello Robin\n"
     ]
    }
   ],
   "source": [
    "'''\n",
    "for\n",
    "for is used for looping. Generally we use for when we know the number of times we want to loop.\n",
    "\n",
    "In Python we can use it with any type of sequence like a list or a string. \n",
    "Here is an example in which for is used to traverse through a list of names:\n",
    "'''\n",
    "\n",
    "names = ['John','Monica','Steven','Robin']\n",
    "for i in names:\n",
    "    print('Hello '+i)"
   ]
  },
  {
   "cell_type": "code",
   "execution_count": 12,
   "metadata": {},
   "outputs": [
    {
     "data": {
      "text/plain": [
       "0.5403023058681398"
      ]
     },
     "execution_count": 12,
     "metadata": {},
     "output_type": "execute_result"
    }
   ],
   "source": [
    "'''\n",
    "import keyword is used to import modules into the current namespace. \n",
    "from…import is used to import specific attributes or functions into the current namespace. For example:\n",
    "'''\n",
    "\n",
    "import math\n",
    "\n",
    "'''\n",
    "will import the math module. Now we can use the cos() function inside it as math.cos(). \n",
    "But if we wanted to import just the cos() function, this can done using from as\n",
    "'''\n",
    "\n",
    "from math import cos\n",
    "\n",
    "'''\n",
    "now we can use the function simply as cos(), no need to write math.cos().\n",
    "'''\n",
    "\n",
    "cos(1)"
   ]
  },
  {
   "cell_type": "code",
   "execution_count": 13,
   "metadata": {},
   "outputs": [
    {
     "name": "stdout",
     "output_type": "stream",
     "text": [
      "10\n",
      "5\n",
      "5\n"
     ]
    }
   ],
   "source": [
    "'''\n",
    "global\n",
    "global is used to declare that a variable inside the function is global (outside the function).\n",
    "\n",
    "If we need to read the value of a global variable, it is not necessary to define it as global. \n",
    "This is understood.\n",
    "\n",
    "If we need to modify the value of a global variable inside a function, then we must declare \n",
    "it with global. Otherwise a local variable with that name is created.\n",
    "\n",
    "Following example will help us clarify this.\n",
    "'''\n",
    "\n",
    "globvar = 10\n",
    "\n",
    "def read1():\n",
    "    print(globvar)\n",
    "    \n",
    "def write1():\n",
    "    global globvar\n",
    "    globvar = 5\n",
    "    \n",
    "def write2():\n",
    "    globvar = 15\n",
    "    \n",
    "read1()\n",
    "write1()\n",
    "read1()\n",
    "write2()\n",
    "read1()\n",
    "\n",
    "'''\n",
    "Here, the read1() function is just reading the value of globvar. \n",
    "So, we do not need to declare it as global. But the write1() function is modifying the value, \n",
    "so we need to declare the variable as global.\n",
    "\n",
    "We can see in our output that the modification did take place (10 is changed to 5). \n",
    "The write2() also tries to modify this value. But we have not declared it as global.\n",
    "\n",
    "Hence, a new local variable globvar is created which is not visible outside this function. \n",
    "Although we modify this local variable to 15, the global variable remains unchanged. \n",
    "This is clearly visible in our output.\n",
    "'''"
   ]
  },
  {
   "cell_type": "code",
   "execution_count": 15,
   "metadata": {},
   "outputs": [
    {
     "data": {
      "text/plain": [
       "True"
      ]
     },
     "execution_count": 15,
     "metadata": {},
     "output_type": "execute_result"
    }
   ],
   "source": [
    "'''\n",
    "in\n",
    "\n",
    "in is used to test if a sequence (list, tuple, string etc.) contains a value. \n",
    "It returns True if the value is present, else it returns False. For example:\n",
    "'''\n",
    "\n",
    "a = [1, 2, 3, 4, 5]\n",
    "5 in a\n"
   ]
  },
  {
   "cell_type": "code",
   "execution_count": 16,
   "metadata": {},
   "outputs": [
    {
     "data": {
      "text/plain": [
       "False"
      ]
     },
     "execution_count": 16,
     "metadata": {},
     "output_type": "execute_result"
    }
   ],
   "source": [
    "10 in a "
   ]
  },
  {
   "cell_type": "code",
   "execution_count": 17,
   "metadata": {},
   "outputs": [
    {
     "name": "stdout",
     "output_type": "stream",
     "text": [
      "h\n",
      "e\n",
      "l\n",
      "l\n",
      "o\n"
     ]
    }
   ],
   "source": [
    "'''\n",
    "The secondary use of in is to traverse through a sequence in a for loop.\n",
    "'''\n",
    "\n",
    "for i in 'hello':\n",
    "    print(i)"
   ]
  },
  {
   "cell_type": "code",
   "execution_count": 18,
   "metadata": {},
   "outputs": [
    {
     "data": {
      "text/plain": [
       "True"
      ]
     },
     "execution_count": 18,
     "metadata": {},
     "output_type": "execute_result"
    }
   ],
   "source": [
    "'''\n",
    "is\n",
    "\n",
    "is is used in Python for testing object identity. While the == operator is used to test if \n",
    "two variables are equal or not, is is used to test if the two variables refer to the same object.\n",
    "\n",
    "It returns True if the objects are identical and False if not.\n",
    "'''\n",
    "\n",
    "True is True"
   ]
  },
  {
   "cell_type": "code",
   "execution_count": 19,
   "metadata": {},
   "outputs": [
    {
     "data": {
      "text/plain": [
       "True"
      ]
     },
     "execution_count": 19,
     "metadata": {},
     "output_type": "execute_result"
    }
   ],
   "source": [
    "False is False"
   ]
  },
  {
   "cell_type": "code",
   "execution_count": 20,
   "metadata": {},
   "outputs": [
    {
     "data": {
      "text/plain": [
       "True"
      ]
     },
     "execution_count": 20,
     "metadata": {},
     "output_type": "execute_result"
    }
   ],
   "source": [
    "None is None"
   ]
  },
  {
   "cell_type": "code",
   "execution_count": 21,
   "metadata": {},
   "outputs": [
    {
     "data": {
      "text/plain": [
       "True"
      ]
     },
     "execution_count": 21,
     "metadata": {},
     "output_type": "execute_result"
    }
   ],
   "source": [
    "'''\n",
    "We know that there is only one instance of True, False and None in Python, so they are identical.\n",
    "'''\n",
    "\n",
    "[] == []"
   ]
  },
  {
   "cell_type": "code",
   "execution_count": 22,
   "metadata": {},
   "outputs": [
    {
     "data": {
      "text/plain": [
       "False"
      ]
     },
     "execution_count": 22,
     "metadata": {},
     "output_type": "execute_result"
    }
   ],
   "source": [
    "[] is []"
   ]
  },
  {
   "cell_type": "code",
   "execution_count": 23,
   "metadata": {},
   "outputs": [
    {
     "data": {
      "text/plain": [
       "True"
      ]
     },
     "execution_count": 23,
     "metadata": {},
     "output_type": "execute_result"
    }
   ],
   "source": [
    "{} == {}"
   ]
  },
  {
   "cell_type": "code",
   "execution_count": 24,
   "metadata": {},
   "outputs": [
    {
     "data": {
      "text/plain": [
       "False"
      ]
     },
     "execution_count": 24,
     "metadata": {},
     "output_type": "execute_result"
    }
   ],
   "source": [
    "{} is {}\n",
    "\n",
    "'''\n",
    "An empty list or dictionary is equal to another empty one. \n",
    "But they are not identical objects as they are located separately in memory. \n",
    "This is because list and dictionary are mutable (value can be changed).\n",
    "'''"
   ]
  },
  {
   "cell_type": "code",
   "execution_count": 33,
   "metadata": {},
   "outputs": [
    {
     "data": {
      "text/plain": [
       "True"
      ]
     },
     "execution_count": 33,
     "metadata": {},
     "output_type": "execute_result"
    }
   ],
   "source": [
    "'''\n",
    "Unlike list and dictionary, string and tuple are immutable (value cannot be altered once defined). \n",
    "Hence, two equal string or tuple are identical as well. They refer to the same memory location.\n",
    "'''\n",
    "\n",
    "'''\n",
    "string -> ''\n",
    "tuple -> ()\n",
    "'''\n",
    "\n",
    "'' == ''"
   ]
  },
  {
   "cell_type": "code",
   "execution_count": 29,
   "metadata": {},
   "outputs": [
    {
     "data": {
      "text/plain": [
       "True"
      ]
     },
     "execution_count": 29,
     "metadata": {},
     "output_type": "execute_result"
    }
   ],
   "source": [
    "'' is ''"
   ]
  },
  {
   "cell_type": "code",
   "execution_count": 31,
   "metadata": {},
   "outputs": [
    {
     "data": {
      "text/plain": [
       "True"
      ]
     },
     "execution_count": 31,
     "metadata": {},
     "output_type": "execute_result"
    }
   ],
   "source": [
    "() == ()"
   ]
  },
  {
   "cell_type": "code",
   "execution_count": 32,
   "metadata": {},
   "outputs": [
    {
     "data": {
      "text/plain": [
       "True"
      ]
     },
     "execution_count": 32,
     "metadata": {},
     "output_type": "execute_result"
    }
   ],
   "source": [
    "() is ()"
   ]
  },
  {
   "cell_type": "code",
   "execution_count": 36,
   "metadata": {},
   "outputs": [
    {
     "name": "stdout",
     "output_type": "stream",
     "text": [
      "2\n",
      "4\n",
      "6\n",
      "8\n",
      "10\n"
     ]
    }
   ],
   "source": [
    "'''\n",
    "lambda\n",
    "\n",
    "lambda is used to create an anonymous function (function with no name). \n",
    "It is an inline function that does not contain a return statement. \n",
    "It consists of an expression that is evaluated and returned. \n",
    "\n",
    "For example:\n",
    "'''\n",
    "\n",
    "a = lambda x: x*2\n",
    "\n",
    "for i in range(1,6):\n",
    "    print(a(i))\n",
    "    \n",
    "'''\n",
    "Here, we have created an inline function that doubles the value, using the lambda statement.\n",
    "We used this to double the values in a list containing 1 to 5.\n",
    "'''"
   ]
  },
  {
   "cell_type": "code",
   "execution_count": 52,
   "metadata": {},
   "outputs": [
    {
     "name": "stdout",
     "output_type": "stream",
     "text": [
      "Inner function:  10\n",
      "Outer function:  10\n"
     ]
    }
   ],
   "source": [
    "'''\n",
    "nonlocal\n",
    "The use of nonlocal keyword is very much similar to the global keyword. nonlocal is used to \n",
    "declare that a variable inside a nested function (function inside a function) is not local to it, \n",
    "meaning it lies in the outer inclosing function. \n",
    "\n",
    "If we need to modify the value of a non-local variable inside a nested function, \n",
    "then we must declare it with nonlocal. \n",
    "Otherwise a local variable with that name is created inside the nested function. \n",
    "\n",
    "Following example will help us clarify this.\n",
    "'''\n",
    "\n",
    "def outer_function():\n",
    "    a = 5\n",
    "    \n",
    "    def inner_function():\n",
    "        nonlocal a\n",
    "        a = 10     \n",
    "        print(\"Inner function: \",a)\n",
    "        \n",
    "    inner_function()\n",
    "    print(\"Outer function: \",a)\n",
    "\n",
    "outer_function()\n",
    "\n",
    "'''\n",
    "Here, the inner_function() is nested within the outer_function.\n",
    "\n",
    "The variable a is in the outer_function(). So, if we want to modify it in the inner_function(), \n",
    "we must declare it as nonlocal. Notice that a is not a global variable.\n",
    "'''"
   ]
  },
  {
   "cell_type": "code",
   "execution_count": 53,
   "metadata": {},
   "outputs": [
    {
     "name": "stdout",
     "output_type": "stream",
     "text": [
      "Inner function:  10\n",
      "Outer function:  5\n"
     ]
    }
   ],
   "source": [
    "'''\n",
    "Hence, we see from the output that the variable was successfully modified inside \n",
    "the nested inner_function(). \n",
    "\n",
    "The result of not using the nonlocal keyword is as follows:\n",
    "'''\n",
    "\n",
    "def outer_function():\n",
    "    a = 5\n",
    "    \n",
    "    def inner_function():\n",
    "        a = 10     \n",
    "        print(\"Inner function: \",a)\n",
    "        \n",
    "    inner_function()\n",
    "    print(\"Outer function: \",a)\n",
    "\n",
    "outer_function()\n",
    "\n",
    "'''\n",
    "Here, we do not declare that the variable a inside the nested function is nonlocal. \n",
    "Hence, a new local variable with the same name is created, but the non-local a \n",
    "is not modified as seen in our output.\n",
    "'''"
   ]
  },
  {
   "cell_type": "code",
   "execution_count": 55,
   "metadata": {},
   "outputs": [
    {
     "ename": "IndentationError",
     "evalue": "expected an indented block (<ipython-input-55-4cb700097f50>, line 13)",
     "output_type": "error",
     "traceback": [
      "\u001b[0;36m  File \u001b[0;32m\"<ipython-input-55-4cb700097f50>\"\u001b[0;36m, line \u001b[0;32m13\u001b[0m\n\u001b[0;31m    '''\u001b[0m\n\u001b[0m       \n^\u001b[0m\n\u001b[0;31mIndentationError\u001b[0m\u001b[0;31m:\u001b[0m expected an indented block\n"
     ]
    }
   ],
   "source": [
    "'''\n",
    "pass\n",
    "pass is a null statement in Python. Nothing happens when it is executed. It is used as a placeholder.\n",
    "\n",
    "Suppose we have a function that is not implemented yet, but we want to implement it in the future. Simply writing,\n",
    "'''\n",
    "\n",
    "def function(args):\n",
    "\n",
    "'''\n",
    "in the middle of a program will give us IndentationError. \n",
    "Instead of this, we construct a blank body with the pass statement.\n",
    "'''\n",
    "\n",
    "def function(args):\n",
    "    pass\n",
    "\n",
    "'''\n",
    "We can do the same thing in an empty class as well.\n",
    "'''\n",
    "\n",
    "class example:\n",
    "    pass"
   ]
  },
  {
   "cell_type": "code",
   "execution_count": 56,
   "metadata": {},
   "outputs": [
    {
     "name": "stdout",
     "output_type": "stream",
     "text": [
      "10\n",
      "None\n"
     ]
    }
   ],
   "source": [
    "'''\n",
    "return\n",
    "return statement is used inside a function to exit it and return a value.\n",
    "\n",
    "If we do not return a value explicitly, None is returned automatically. \n",
    "This is verified with the following example.\n",
    "'''\n",
    "\n",
    "def func_return():\n",
    "    a = 10\n",
    "    return a\n",
    "\n",
    "def no_return():\n",
    "    a = 10\n",
    "    \n",
    "print(func_return())\n",
    "print(no_return())"
   ]
  },
  {
   "cell_type": "code",
   "execution_count": 60,
   "metadata": {},
   "outputs": [
    {
     "data": {
      "text/plain": [
       "'\\nThis example writes the text Hello world! to the file example.txt. \\nFile objects have __enter__ and __exit__ method defined within them, so they act as their own context manager.\\n\\nFirst the __enter__ method is called, then the code within with statement is executed and \\nfinally the __exit__ method is called. __exit__ method is called even if there is an error. \\nIt basically closes the file stream.\\n'"
      ]
     },
     "execution_count": 60,
     "metadata": {},
     "output_type": "execute_result"
    }
   ],
   "source": [
    "'''\n",
    "with\n",
    "\n",
    "with statement is used to wrap the execution of a block of code within methods defined by the context manager.\n",
    "\n",
    "Context manager is a class that implements __enter__ and __exit__ methods. \n",
    "Use of with statement ensures that the __exit__ method is called at the end of the nested block. \n",
    "This concept is similar to the use of try…finally block. Here, is an example.\n",
    "'''\n",
    "\n",
    "with open('example.txt', 'a') as my_file:\n",
    "    my_file.write('Hello world!')\n",
    "\n",
    "'''\n",
    "This example writes the text Hello world! to the file example.txt. \n",
    "File objects have __enter__ and __exit__ method defined within them, so they act as their own context manager.\n",
    "\n",
    "First the __enter__ method is called, then the code within with statement is executed and \n",
    "finally the __exit__ method is called. __exit__ method is called even if there is an error. \n",
    "It basically closes the file stream.\n",
    "'''"
   ]
  },
  {
   "cell_type": "code",
   "execution_count": 63,
   "metadata": {},
   "outputs": [
    {
     "data": {
      "text/plain": [
       "1"
      ]
     },
     "execution_count": 63,
     "metadata": {},
     "output_type": "execute_result"
    }
   ],
   "source": [
    "'''\n",
    "yield\n",
    "\n",
    "yield is used inside a function like a return statement. But yield returns a generator.\n",
    "\n",
    "Generator is an iterator that generates one item at a time. A large list of value will take up a lot of memory. \n",
    "Generators are useful in this situation as it generates only one value at a time \n",
    "instead of storing all the values in memory. For example,\n",
    "'''\n",
    "\n",
    "g = (2**x for x in range(100))\n",
    "\n",
    "'''\n",
    "will create a generator g which generates powers of 2 up to the number two raised to the power 99. \n",
    "We can generate the numbers using the next() function as shown below.\n",
    "'''\n",
    "\n",
    "next(g)"
   ]
  },
  {
   "cell_type": "code",
   "execution_count": 64,
   "metadata": {},
   "outputs": [
    {
     "data": {
      "text/plain": [
       "2"
      ]
     },
     "execution_count": 64,
     "metadata": {},
     "output_type": "execute_result"
    }
   ],
   "source": [
    "next(g)"
   ]
  },
  {
   "cell_type": "code",
   "execution_count": 65,
   "metadata": {},
   "outputs": [
    {
     "data": {
      "text/plain": [
       "4"
      ]
     },
     "execution_count": 65,
     "metadata": {},
     "output_type": "execute_result"
    }
   ],
   "source": [
    "next(g)"
   ]
  },
  {
   "cell_type": "code",
   "execution_count": 66,
   "metadata": {},
   "outputs": [
    {
     "data": {
      "text/plain": [
       "8"
      ]
     },
     "execution_count": 66,
     "metadata": {},
     "output_type": "execute_result"
    }
   ],
   "source": [
    "next(g)"
   ]
  },
  {
   "cell_type": "code",
   "execution_count": 67,
   "metadata": {},
   "outputs": [
    {
     "data": {
      "text/plain": [
       "16"
      ]
     },
     "execution_count": 67,
     "metadata": {},
     "output_type": "execute_result"
    }
   ],
   "source": [
    "next(g)"
   ]
  },
  {
   "cell_type": "code",
   "execution_count": 72,
   "metadata": {},
   "outputs": [
    {
     "name": "stdout",
     "output_type": "stream",
     "text": [
      "0\n",
      "1\n",
      "4\n",
      "9\n",
      "16\n",
      "25\n"
     ]
    },
    {
     "data": {
      "text/plain": [
       "'\\nHere, the function generator() returns a generator that generates square of numbers from 0 to 5. \\nThis is printed in the for loop.\\n'"
      ]
     },
     "execution_count": 72,
     "metadata": {},
     "output_type": "execute_result"
    }
   ],
   "source": [
    "'''\n",
    "This type of generator is returned by the yield statement from a function. Here is an example.\n",
    "'''\n",
    "\n",
    "def generator():\n",
    "    for i in range(6):\n",
    "        yield i*i\n",
    "    \n",
    "g = generator()\n",
    "for i in g:\n",
    "    print(i)\n",
    "\n",
    "'''\n",
    "Here, the function generator() returns a generator that generates square of numbers from 0 to 5. \n",
    "This is printed in the for loop.\n",
    "'''"
   ]
  }
 ],
 "metadata": {
  "kernelspec": {
   "display_name": "Python 3",
   "language": "python",
   "name": "python3"
  },
  "language_info": {
   "codemirror_mode": {
    "name": "ipython",
    "version": 3
   },
   "file_extension": ".py",
   "mimetype": "text/x-python",
   "name": "python",
   "nbconvert_exporter": "python",
   "pygments_lexer": "ipython3",
   "version": "3.7.3"
  }
 },
 "nbformat": 4,
 "nbformat_minor": 2
}
